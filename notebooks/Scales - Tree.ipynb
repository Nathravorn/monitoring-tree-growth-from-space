{
 "cells": [
  {
   "cell_type": "code",
   "execution_count": 1,
   "metadata": {},
   "outputs": [],
   "source": [
    "ZONE = \"south\""
   ]
  },
  {
   "cell_type": "code",
   "execution_count": 2,
   "metadata": {},
   "outputs": [],
   "source": [
    "%matplotlib inline\n",
    "\n",
    "import sys\n",
    "import os\n",
    "from pathlib import Path\n",
    "from datetime import datetime, timedelta\n",
    "from collections import defaultdict\n",
    "\n",
    "import pandas as pd\n",
    "import numpy as np\n",
    "from matplotlib import pyplot as plt\n",
    "import seaborn as sns\n",
    "import tsd\n",
    "import geojson\n",
    "import json\n",
    "import folium\n",
    "import rasterio, rasterio.mask\n",
    "from PIL import Image, ImageDraw, ImageFont\n",
    "\n",
    "sys.path.append(\"../forestry_yield_estimation\")\n",
    "import vistools, utils\n",
    "from preprocessing import get_timeseries, read_raw_points_data, read_raw_polygons_data, get_aoi, get_catalog, read_images\n",
    "\n",
    "pd.options.mode.chained_assignment = None\n",
    "plt.style.use(\"ggplot\")\n",
    "sns.set_context(\"notebook\", font_scale=1.4)\n",
    "\n",
    "root = Path(\"..\")\n",
    "data_path = root / \"data\"\n",
    "output_path = Path(\"../report/img\")"
   ]
  },
  {
   "cell_type": "code",
   "execution_count": 3,
   "metadata": {},
   "outputs": [],
   "source": [
    "df = read_raw_points_data(data_path).query(\"zone == @ZONE\")"
   ]
  },
  {
   "cell_type": "code",
   "execution_count": 4,
   "metadata": {},
   "outputs": [],
   "source": [
    "# Normalization\n",
    "montenativo = (\n",
    "    pd.read_csv(data_path/\"montenativo.csv\")\n",
    "    .rename(columns=lambda col: f\"montenativo_{col.split('_')[0]}\" if \"backscatter\" in col else col)\n",
    ")"
   ]
  },
  {
   "cell_type": "code",
   "execution_count": 5,
   "metadata": {},
   "outputs": [
    {
     "name": "stdout",
     "output_type": "stream",
     "text": [
      "Found 76 images\n"
     ]
    },
    {
     "data": {
      "text/html": [
       "<div>\n",
       "<style scoped>\n",
       "    .dataframe tbody tr th:only-of-type {\n",
       "        vertical-align: middle;\n",
       "    }\n",
       "\n",
       "    .dataframe tbody tr th {\n",
       "        vertical-align: top;\n",
       "    }\n",
       "\n",
       "    .dataframe thead th {\n",
       "        text-align: right;\n",
       "    }\n",
       "</style>\n",
       "<table border=\"1\" class=\"dataframe\">\n",
       "  <thead>\n",
       "    <tr style=\"text-align: right;\">\n",
       "      <th></th>\n",
       "      <th>date</th>\n",
       "      <th>polarisation</th>\n",
       "      <th>montenativo_mean</th>\n",
       "      <th>montenativo_median</th>\n",
       "      <th>filename</th>\n",
       "    </tr>\n",
       "  </thead>\n",
       "  <tbody>\n",
       "    <tr>\n",
       "      <th>0</th>\n",
       "      <td>2017-01-04</td>\n",
       "      <td>vh</td>\n",
       "      <td>2.787501</td>\n",
       "      <td>4.521789</td>\n",
       "      <td>2017-01-04_S1B_orbit_170_D_GRD_vh</td>\n",
       "    </tr>\n",
       "    <tr>\n",
       "      <th>1</th>\n",
       "      <td>2017-01-04</td>\n",
       "      <td>vv</td>\n",
       "      <td>3.109831</td>\n",
       "      <td>5.068904</td>\n",
       "      <td>2017-01-04_S1B_orbit_170_D_GRD_vv</td>\n",
       "    </tr>\n",
       "    <tr>\n",
       "      <th>2</th>\n",
       "      <td>2017-01-16</td>\n",
       "      <td>vh</td>\n",
       "      <td>2.742425</td>\n",
       "      <td>4.442651</td>\n",
       "      <td>2017-01-16_S1B_orbit_170_D_GRD_vh</td>\n",
       "    </tr>\n",
       "    <tr>\n",
       "      <th>3</th>\n",
       "      <td>2017-01-16</td>\n",
       "      <td>vv</td>\n",
       "      <td>3.082079</td>\n",
       "      <td>5.010635</td>\n",
       "      <td>2017-01-16_S1B_orbit_170_D_GRD_vv</td>\n",
       "    </tr>\n",
       "    <tr>\n",
       "      <th>4</th>\n",
       "      <td>2017-01-28</td>\n",
       "      <td>vh</td>\n",
       "      <td>2.622059</td>\n",
       "      <td>4.219508</td>\n",
       "      <td>2017-01-28_S1B_orbit_170_D_GRD_vh</td>\n",
       "    </tr>\n",
       "    <tr>\n",
       "      <th>...</th>\n",
       "      <td>...</td>\n",
       "      <td>...</td>\n",
       "      <td>...</td>\n",
       "      <td>...</td>\n",
       "      <td>...</td>\n",
       "    </tr>\n",
       "    <tr>\n",
       "      <th>117</th>\n",
       "      <td>2018-12-01</td>\n",
       "      <td>vv</td>\n",
       "      <td>3.033990</td>\n",
       "      <td>4.941642</td>\n",
       "      <td>2018-12-01_S1B_orbit_170_D_GRD_vv</td>\n",
       "    </tr>\n",
       "    <tr>\n",
       "      <th>118</th>\n",
       "      <td>2018-12-13</td>\n",
       "      <td>vh</td>\n",
       "      <td>2.667043</td>\n",
       "      <td>4.276666</td>\n",
       "      <td>2018-12-13_S1B_orbit_170_D_GRD_vh</td>\n",
       "    </tr>\n",
       "    <tr>\n",
       "      <th>119</th>\n",
       "      <td>2018-12-13</td>\n",
       "      <td>vv</td>\n",
       "      <td>3.041726</td>\n",
       "      <td>4.934474</td>\n",
       "      <td>2018-12-13_S1B_orbit_170_D_GRD_vv</td>\n",
       "    </tr>\n",
       "    <tr>\n",
       "      <th>120</th>\n",
       "      <td>2018-12-25</td>\n",
       "      <td>vh</td>\n",
       "      <td>2.689327</td>\n",
       "      <td>4.356709</td>\n",
       "      <td>2018-12-25_S1B_orbit_170_D_GRD_vh</td>\n",
       "    </tr>\n",
       "    <tr>\n",
       "      <th>121</th>\n",
       "      <td>2018-12-25</td>\n",
       "      <td>vv</td>\n",
       "      <td>3.055860</td>\n",
       "      <td>4.983607</td>\n",
       "      <td>2018-12-25_S1B_orbit_170_D_GRD_vv</td>\n",
       "    </tr>\n",
       "  </tbody>\n",
       "</table>\n",
       "<p>122 rows × 5 columns</p>\n",
       "</div>"
      ],
      "text/plain": [
       "          date polarisation  montenativo_mean  montenativo_median  \\\n",
       "0   2017-01-04           vh          2.787501            4.521789   \n",
       "1   2017-01-04           vv          3.109831            5.068904   \n",
       "2   2017-01-16           vh          2.742425            4.442651   \n",
       "3   2017-01-16           vv          3.082079            5.010635   \n",
       "4   2017-01-28           vh          2.622059            4.219508   \n",
       "..         ...          ...               ...                 ...   \n",
       "117 2018-12-01           vv          3.033990            4.941642   \n",
       "118 2018-12-13           vh          2.667043            4.276666   \n",
       "119 2018-12-13           vv          3.041726            4.934474   \n",
       "120 2018-12-25           vh          2.689327            4.356709   \n",
       "121 2018-12-25           vv          3.055860            4.983607   \n",
       "\n",
       "                              filename  \n",
       "0    2017-01-04_S1B_orbit_170_D_GRD_vh  \n",
       "1    2017-01-04_S1B_orbit_170_D_GRD_vv  \n",
       "2    2017-01-16_S1B_orbit_170_D_GRD_vh  \n",
       "3    2017-01-16_S1B_orbit_170_D_GRD_vv  \n",
       "4    2017-01-28_S1B_orbit_170_D_GRD_vh  \n",
       "..                                 ...  \n",
       "117  2018-12-01_S1B_orbit_170_D_GRD_vv  \n",
       "118  2018-12-13_S1B_orbit_170_D_GRD_vh  \n",
       "119  2018-12-13_S1B_orbit_170_D_GRD_vv  \n",
       "120  2018-12-25_S1B_orbit_170_D_GRD_vh  \n",
       "121  2018-12-25_S1B_orbit_170_D_GRD_vv  \n",
       "\n",
       "[122 rows x 5 columns]"
      ]
     },
     "execution_count": 5,
     "metadata": {},
     "output_type": "execute_result"
    }
   ],
   "source": [
    "catalog = get_catalog(data_path, ZONE, download_crops=False)\n",
    "catalog[\"date_str\"] = catalog[\"date\"].dt.date.astype(\"str\")\n",
    "montenativo = montenativo.merge(\n",
    "    catalog,\n",
    "    left_on=[\"date\", \"polarisation\"], \n",
    "    right_on=[\"date_str\", \"polarisation\"],\n",
    "    suffixes=(None, \"_y\")\n",
    ")[[\"date\", \"polarisation\", \"montenativo_mean\", \"montenativo_median\", \"filename\"]]\n",
    "montenativo = montenativo.reset_index(drop=True)\n",
    "montenativo[\"date\"] = pd.to_datetime(montenativo[\"date\"])\n",
    "montenativo"
   ]
  },
  {
   "cell_type": "code",
   "execution_count": 6,
   "metadata": {},
   "outputs": [
    {
     "data": {
      "application/vnd.jupyter.widget-view+json": {
       "model_id": "c4231ad1cf2341f189ac1552f3cae76d",
       "version_major": 2,
       "version_minor": 0
      },
      "text/plain": [
       "  0%|          | 0/122 [00:00<?, ?it/s]"
      ]
     },
     "metadata": {},
     "output_type": "display_data"
    }
   ],
   "source": [
    "raw_images, filenames, srcs = read_images(data_path, ZONE)\n",
    "assert list(filenames) == montenativo[\"filename\"].tolist()\n",
    "\n",
    "images = np.log(raw_images)\n",
    "is_vv = np.array([f.endswith(\"vv\") for f in filenames])\n",
    "\n",
    "norm = montenativo[\"montenativo_mean\"].values\n",
    "images = images - norm.reshape(-1, 1, 1)\n",
    "\n",
    "images_8bit = np.empty_like(images, dtype=\"uint8\")\n",
    "images_8bit[is_vv] = utils.simple_equalization_8bit(images[is_vv])\n",
    "images_8bit[~is_vv] = utils.simple_equalization_8bit(images[~is_vv])"
   ]
  },
  {
   "cell_type": "code",
   "execution_count": 8,
   "metadata": {},
   "outputs": [
    {
     "data": {
      "text/plain": [
       "0     2016-06-18\n",
       "1     2016-06-18\n",
       "2     2013-06-08\n",
       "3     2016-06-18\n",
       "4     2016-06-18\n",
       "         ...    \n",
       "469   2017-10-06\n",
       "470   2017-03-04\n",
       "471   2017-03-04\n",
       "472   2017-03-10\n",
       "473   2017-03-10\n",
       "Name: date, Length: 474, dtype: datetime64[ns]"
      ]
     },
     "execution_count": 8,
     "metadata": {},
     "output_type": "execute_result"
    }
   ],
   "source": [
    "df[\"date\"]"
   ]
  },
  {
   "cell_type": "code",
   "execution_count": 21,
   "metadata": {},
   "outputs": [
    {
     "data": {
      "application/vnd.jupyter.widget-view+json": {
       "model_id": "899178c896464dd7b97b35c08f187050",
       "version_major": 2,
       "version_minor": 0
      },
      "text/plain": [
       "  0%|          | 0/474 [00:00<?, ?it/s]"
      ]
     },
     "metadata": {},
     "output_type": "display_data"
    },
    {
     "name": "stderr",
     "output_type": "stream",
     "text": [
      "/home/nathra/.local/lib/python3.8/site-packages/numpy/core/fromnumeric.py:3419: RuntimeWarning: Mean of empty slice.\n",
      "  return _methods._mean(a, axis=axis, dtype=dtype,\n",
      "/home/nathra/.local/lib/python3.8/site-packages/numpy/core/_methods.py:188: RuntimeWarning: invalid value encountered in double_scalars\n",
      "  ret = ret.dtype.type(ret / rcount)\n",
      "/home/nathra/.local/lib/python3.8/site-packages/numpy/core/_methods.py:261: RuntimeWarning: Degrees of freedom <= 0 for slice\n",
      "  ret = _var(a, axis=axis, dtype=dtype, out=out, ddof=ddof,\n",
      "/home/nathra/.local/lib/python3.8/site-packages/numpy/core/_methods.py:221: RuntimeWarning: invalid value encountered in true_divide\n",
      "  arrmean = um.true_divide(arrmean, div, out=arrmean, casting='unsafe',\n",
      "/home/nathra/.local/lib/python3.8/site-packages/numpy/core/_methods.py:253: RuntimeWarning: invalid value encountered in double_scalars\n",
      "  ret = ret.dtype.type(ret / rcount)\n"
     ]
    }
   ],
   "source": [
    "window_size_time = timedelta(days=90)\n",
    "window_size_space = 1\n",
    "offset_correction=(-40, 20)\n",
    "\n",
    "measurements = []\n",
    "for _, row in tqdm(df.iterrows(), total=len(df)):\n",
    "    # Time window selection\n",
    "    current_date = row[\"date\"]\n",
    "    indices = montenativo.loc[(montenativo[\"date\"] < current_date + window_size_time/2) & (montenativo[\"date\"] > current_date - window_size_time/2), \"date\"].index.tolist()\n",
    "    #indices = montenativo.loc[(montenativo[\"date\"] < current_date), \"date\"].index.tolist()\n",
    "    if len(indices) == 0:\n",
    "        measurements.append(defaultdict(lambda : np.nan))\n",
    "        continue\n",
    "    \n",
    "    # Space selection\n",
    "    coords = srcs[0].index(row[\"easting\"] + offset_correction[0], row[\"northing\"] + offset_correction[1])\n",
    "    window = (\n",
    "        int(coords[0] - window_size_space/2),\n",
    "        int(coords[0] + window_size_space/2),\n",
    "        int(coords[1] - window_size_space/2),\n",
    "        int(coords[1] + window_size_space/2),\n",
    "    )\n",
    "    \n",
    "    # Extract measurements\n",
    "    windows = images[indices, window[0]:window[1], window[2]:window[3]]\n",
    "    vh, vv = windows[~is_vv[indices]], windows[is_vv[indices]]\n",
    "    measurements.append({\n",
    "        \"measurement\": np.median(vh - vv),\n",
    "        \"std\": np.std(vh - vv),\n",
    "    })\n",
    "    \n",
    "    #out = []\n",
    "    #for date in dates:\n",
    "    #    indices = montenativo.query(\"date == @date\").index\n",
    "    #    assert len(indices) == 2\n",
    "    #    assert not is_vv[indices[0]]\n",
    "    #    vh_window, vv_window = (\n",
    "    #        images[index][window[0]:window[1], window[2]:window[3]]\n",
    "    #        for index in indices\n",
    "    #    )\n",
    "    #    ratio = vh_window - vv_window\n",
    "    #    out.append(ratio.flatten())\n",
    "    \n",
    "measurements = pd.DataFrame(measurements)\n",
    "df[measurements.columns] = measurements"
   ]
  },
  {
   "cell_type": "code",
   "execution_count": 22,
   "metadata": {},
   "outputs": [
    {
     "data": {
      "image/png": "[encoded data removed]",
      "text/plain": [
       "<Figure size 504x504 with 1 Axes>"
      ]
     },
     "metadata": {},
     "output_type": "display_data"
    }
   ],
   "source": [
    "sns.lmplot(data=df, x=\"measurement\", y=\"volume\", height=7)\n",
    "plt.savefig(output_path/\"volume_prediction\"/\"tree_scale.png\")"
   ]
  },
  {
   "cell_type": "code",
   "execution_count": 16,
   "metadata": {},
   "outputs": [
    {
     "data": {
      "text/plain": [
       "LinregressResult(slope=31.437064845240133, intercept=244.96505760967918, rvalue=0.0559840539476316, pvalue=0.46181021771910147, stderr=42.62583906542285, intercept_stderr=6.911168923480847)"
      ]
     },
     "execution_count": 16,
     "metadata": {},
     "output_type": "execute_result"
    }
   ],
   "source": [
    "from scipy import stats\n",
    "stats.linregress(df.dropna().measurement, df.dropna().volume)"
   ]
  },
  {
   "cell_type": "code",
   "execution_count": null,
   "metadata": {},
   "outputs": [],
   "source": []
  }
 ],
 "metadata": {
  "kernelspec": {
   "display_name": "Python 3",
   "language": "python",
   "name": "python3"
  },
  "language_info": {
   "codemirror_mode": {
    "name": "ipython",
    "version": 3
   },
   "file_extension": ".py",
   "mimetype": "text/x-python",
   "name": "python",
   "nbconvert_exporter": "python",
   "pygments_lexer": "ipython3",
   "version": "3.8.10"
  }
 },
 "nbformat": 4,
 "nbformat_minor": 4
}
